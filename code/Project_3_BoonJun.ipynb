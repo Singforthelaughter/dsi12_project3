{
 "cells": [
  {
   "cell_type": "markdown",
   "metadata": {},
   "source": [
    "# Project 3 : Subreddit Classification"
   ]
  },
  {
   "cell_type": "markdown",
   "metadata": {},
   "source": [
    "## Problem Statement\n",
    "\n",
    "To classify whether a post is an uplifting news for reddit to boost positivity within the community, by recommending those uplifting news on the main page."
   ]
  },
  {
   "cell_type": "markdown",
   "metadata": {},
   "source": [
    "## Objective\n",
    "\n",
    "1) To webscrape data from subreddit World News & Uplifting News through Json API\n",
    "\n",
    "2) Clean and prepare data for classification model validation\n",
    "\n",
    "3) Valid among 3 classification model: Logistic, Multinomial & Random Forest\n",
    "\n",
    "4) Choose 1 model for to make prediction and inference"
   ]
  },
  {
   "cell_type": "markdown",
   "metadata": {},
   "source": [
    "## Executive Summary\n",
    "\n",
    "Reddit is home to thousands of community and plays an influencing role in the social media space along side Facebook, Twitter etc. Research has shown that that when people are reminded of their mortality, their defense of their cultural worldview intensifies, and there is potential to experience anxiety when that occurs ([Source](https://journals.sagepub.com/doi/abs/10.1111/1467-9280.03454)). It is therefore important for reddit to promote a positive outlook for its users among the perceived increases of negative news in recent current event. \n",
    "\n",
    "By adopting logistic regression classification model that is trained on posts from subreddit 'Uplifting News', reddit would be able to identify the good news among the news headline posted within reddit and recommend the posts to its users; thereby promoting a positive perspective that the world is not going to end. \n",
    "\n",
    "The logistic regression classification model is able to classify the post with an accuracy of 0.81, and perform as expected by using valid key tokens unique for each subreddit (World News & Uplifting News). \n",
    "\n",
    "Hence, reddit would be able to create a healthy & positive community if the model built in the project is adopted and trained on even more data to improve accuracy. \n",
    "\n",
    "\n",
    "### Contents:\n",
    "\n",
    "\n",
    "- [Data Preparation](#1.-Data-Preparation)\n",
    "- [Model Preparation](#2.-Model-Preparation)\n",
    "- [Model Validation](#3.-Model-Validation)\n",
    "- [Model Fitting & Prediction](#4.-Model-Fitting-&-Prediction)\n",
    "- [Model Evaluation](#5.-Model-Evaluation)\n",
    "- [Conclusion & Recommendations](#6.-Conclusion-&-Recommendations)"
   ]
  },
  {
   "cell_type": "markdown",
   "metadata": {},
   "source": [
    "## Data Dictionary\n",
    "\n",
    "| Features  | Type   | Description                                     |\n",
    "|-----------|--------|-------------------------------------------------|\n",
    "| Selftext  | Object | Content of each post from the subreddit in text |\n",
    "| Title     | Object | Title of each post from the subreddit in text   |\n",
    "| Subreddit | int    | 1 = World News, 0 = Uplifting News              |\n",
    "\n",
    "[World News](https://www.reddit.com/r/worldnews/) : A place for major news from around the world, excluding US-internal news.\n",
    "\n",
    "[Uplifting News](https://www.reddit.com/r/UpliftingNews/) : A place to read and share positive and uplifting, feel good news stories."
   ]
  },
  {
   "cell_type": "markdown",
   "metadata": {},
   "source": [
    "## Importing Libraries"
   ]
  },
  {
   "cell_type": "code",
   "execution_count": 1,
   "metadata": {},
   "outputs": [],
   "source": [
    "import pandas as pd\n",
    "import numpy as np\n",
    "import regex as re\n",
    "import nltk\n",
    "import seaborn as sns\n",
    "import matplotlib.pyplot as plt\n",
    "from nltk.corpus import stopwords\n",
    "from nltk.stem import WordNetLemmatizer,PorterStemmer\n",
    "from nltk.tokenize import RegexpTokenizer \n",
    "from sklearn.feature_extraction import stop_words\n",
    "from sklearn.ensemble import RandomForestClassifier,BaggingClassifier\n",
    "from sklearn.feature_extraction.text import CountVectorizer, TfidfVectorizer\n",
    "from sklearn.linear_model import LogisticRegression\n",
    "from sklearn.metrics import confusion_matrix, roc_auc_score, accuracy_score, f1_score, balanced_accuracy_score\n",
    "from sklearn.model_selection import GridSearchCV, train_test_split, cross_val_score\n",
    "from sklearn.naive_bayes import MultinomialNB\n",
    "from sklearn.pipeline import Pipeline\n",
    "from sklearn.svm import SVC\n",
    "from textblob import TextBlob\n",
    "from sklearn.feature_extraction import text\n",
    "\n",
    "pd.set_option('display.max_colwidth', 500)"
   ]
  },
  {
   "cell_type": "markdown",
   "metadata": {},
   "source": [
    "## 1. Data Preparation"
   ]
  },
  {
   "cell_type": "markdown",
   "metadata": {},
   "source": [
    "### 1.1. Reading Data"
   ]
  },
  {
   "cell_type": "code",
   "execution_count": 2,
   "metadata": {},
   "outputs": [],
   "source": [
    "#Data scraping was done through a separate jupyter notebook\n",
    "df1 = pd.read_csv('../datasets/upnews.csv')\n",
    "df2 = pd.read_csv('../datasets/worldnews.csv')"
   ]
  },
  {
   "cell_type": "code",
   "execution_count": 3,
   "metadata": {},
   "outputs": [
    {
     "data": {
      "text/html": [
       "<div>\n",
       "<style scoped>\n",
       "    .dataframe tbody tr th:only-of-type {\n",
       "        vertical-align: middle;\n",
       "    }\n",
       "\n",
       "    .dataframe tbody tr th {\n",
       "        vertical-align: top;\n",
       "    }\n",
       "\n",
       "    .dataframe thead th {\n",
       "        text-align: right;\n",
       "    }\n",
       "</style>\n",
       "<table border=\"1\" class=\"dataframe\">\n",
       "  <thead>\n",
       "    <tr style=\"text-align: right;\">\n",
       "      <th></th>\n",
       "      <th>all_awardings</th>\n",
       "      <th>allow_live_comments</th>\n",
       "      <th>approved_at_utc</th>\n",
       "      <th>approved_by</th>\n",
       "      <th>archived</th>\n",
       "      <th>author</th>\n",
       "      <th>author_cakeday</th>\n",
       "      <th>author_flair_background_color</th>\n",
       "      <th>author_flair_css_class</th>\n",
       "      <th>author_flair_richtext</th>\n",
       "      <th>...</th>\n",
       "      <th>thumbnail_width</th>\n",
       "      <th>title</th>\n",
       "      <th>total_awards_received</th>\n",
       "      <th>ups</th>\n",
       "      <th>url</th>\n",
       "      <th>user_reports</th>\n",
       "      <th>view_count</th>\n",
       "      <th>visited</th>\n",
       "      <th>whitelist_status</th>\n",
       "      <th>wls</th>\n",
       "    </tr>\n",
       "  </thead>\n",
       "  <tbody>\n",
       "    <tr>\n",
       "      <th>0</th>\n",
       "      <td>[]</td>\n",
       "      <td>True</td>\n",
       "      <td>NaN</td>\n",
       "      <td>NaN</td>\n",
       "      <td>False</td>\n",
       "      <td>chicompj</td>\n",
       "      <td>NaN</td>\n",
       "      <td>NaN</td>\n",
       "      <td>NaN</td>\n",
       "      <td>[]</td>\n",
       "      <td>...</td>\n",
       "      <td>140.0</td>\n",
       "      <td>British carbon tax leads to 93% drop in coal-fired electricity</td>\n",
       "      <td>0</td>\n",
       "      <td>3708</td>\n",
       "      <td>https://phys.org/news/2020-01-british-carbon-tax-coal-fired-electricity.html</td>\n",
       "      <td>[]</td>\n",
       "      <td>NaN</td>\n",
       "      <td>False</td>\n",
       "      <td>all_ads</td>\n",
       "      <td>6</td>\n",
       "    </tr>\n",
       "    <tr>\n",
       "      <th>1</th>\n",
       "      <td>[]</td>\n",
       "      <td>True</td>\n",
       "      <td>NaN</td>\n",
       "      <td>NaN</td>\n",
       "      <td>False</td>\n",
       "      <td>nubeastral</td>\n",
       "      <td>NaN</td>\n",
       "      <td>NaN</td>\n",
       "      <td>NaN</td>\n",
       "      <td>[]</td>\n",
       "      <td>...</td>\n",
       "      <td>140.0</td>\n",
       "      <td>Mother, 40, and her three children survive 34 DAYS in Colombian jungle after getting lost while on holiday and living off of wild fruits</td>\n",
       "      <td>0</td>\n",
       "      <td>12121</td>\n",
       "      <td>https://www.dailymail.co.uk/news/article-7933731/amp/Mother-40-three-children-survive-34-DAYS-Colombian-jungle.html</td>\n",
       "      <td>[]</td>\n",
       "      <td>NaN</td>\n",
       "      <td>False</td>\n",
       "      <td>all_ads</td>\n",
       "      <td>6</td>\n",
       "    </tr>\n",
       "    <tr>\n",
       "      <th>2</th>\n",
       "      <td>[]</td>\n",
       "      <td>False</td>\n",
       "      <td>NaN</td>\n",
       "      <td>NaN</td>\n",
       "      <td>False</td>\n",
       "      <td>WillOfTheLand</td>\n",
       "      <td>NaN</td>\n",
       "      <td>NaN</td>\n",
       "      <td>NaN</td>\n",
       "      <td>[]</td>\n",
       "      <td>...</td>\n",
       "      <td>140.0</td>\n",
       "      <td>The world’s most profitable hedge fund is now a climate radical. With $30 billion in assets, its money manager pushes portfolio companies to dramatically reduce greenhouse gas emissions and disclose their carbon footprint. If they don’t, he says he’ll oust their boards or dump their shares.</td>\n",
       "      <td>0</td>\n",
       "      <td>1316</td>\n",
       "      <td>https://www.bloomberg.com/news/articles/2020-01-22/the-world-s-most-profitable-hedge-fund-is-now-a-climate-radical?srnd=premium-europe</td>\n",
       "      <td>[]</td>\n",
       "      <td>NaN</td>\n",
       "      <td>False</td>\n",
       "      <td>all_ads</td>\n",
       "      <td>6</td>\n",
       "    </tr>\n",
       "    <tr>\n",
       "      <th>3</th>\n",
       "      <td>[]</td>\n",
       "      <td>False</td>\n",
       "      <td>NaN</td>\n",
       "      <td>NaN</td>\n",
       "      <td>False</td>\n",
       "      <td>5LayerShoeRack</td>\n",
       "      <td>NaN</td>\n",
       "      <td>NaN</td>\n",
       "      <td>NaN</td>\n",
       "      <td>[]</td>\n",
       "      <td>...</td>\n",
       "      <td>140.0</td>\n",
       "      <td>Prisoners taught coding so they can get jobs once released</td>\n",
       "      <td>0</td>\n",
       "      <td>114</td>\n",
       "      <td>https://www.wtxl.com/news/national/program-teaches-prisoners-coding-so-they-can-land-tech-jobs-once-released</td>\n",
       "      <td>[]</td>\n",
       "      <td>NaN</td>\n",
       "      <td>False</td>\n",
       "      <td>all_ads</td>\n",
       "      <td>6</td>\n",
       "    </tr>\n",
       "    <tr>\n",
       "      <th>4</th>\n",
       "      <td>[]</td>\n",
       "      <td>False</td>\n",
       "      <td>NaN</td>\n",
       "      <td>NaN</td>\n",
       "      <td>False</td>\n",
       "      <td>jamey2</td>\n",
       "      <td>NaN</td>\n",
       "      <td>NaN</td>\n",
       "      <td>NaN</td>\n",
       "      <td>[]</td>\n",
       "      <td>...</td>\n",
       "      <td>140.0</td>\n",
       "      <td>Actually, more people visit their library than attend the NFL, NHL, NBA, Nascar, or the movie theater COMBINED.</td>\n",
       "      <td>0</td>\n",
       "      <td>1959</td>\n",
       "      <td>https://www.libraries2020.org/but_nobody_uses_libraries_anymore</td>\n",
       "      <td>[]</td>\n",
       "      <td>NaN</td>\n",
       "      <td>False</td>\n",
       "      <td>all_ads</td>\n",
       "      <td>6</td>\n",
       "    </tr>\n",
       "  </tbody>\n",
       "</table>\n",
       "<p>5 rows × 106 columns</p>\n",
       "</div>"
      ],
      "text/plain": [
       "  all_awardings  allow_live_comments  approved_at_utc  approved_by  archived  \\\n",
       "0            []                 True              NaN          NaN     False   \n",
       "1            []                 True              NaN          NaN     False   \n",
       "2            []                False              NaN          NaN     False   \n",
       "3            []                False              NaN          NaN     False   \n",
       "4            []                False              NaN          NaN     False   \n",
       "\n",
       "           author author_cakeday  author_flair_background_color  \\\n",
       "0        chicompj            NaN                            NaN   \n",
       "1      nubeastral            NaN                            NaN   \n",
       "2   WillOfTheLand            NaN                            NaN   \n",
       "3  5LayerShoeRack            NaN                            NaN   \n",
       "4          jamey2            NaN                            NaN   \n",
       "\n",
       "   author_flair_css_class author_flair_richtext  ...  thumbnail_width  \\\n",
       "0                     NaN                    []  ...            140.0   \n",
       "1                     NaN                    []  ...            140.0   \n",
       "2                     NaN                    []  ...            140.0   \n",
       "3                     NaN                    []  ...            140.0   \n",
       "4                     NaN                    []  ...            140.0   \n",
       "\n",
       "                                                                                                                                                                                                                                                                                                 title  \\\n",
       "0                                                                                                                                                                                                                                       British carbon tax leads to 93% drop in coal-fired electricity   \n",
       "1                                                                                                                                                             Mother, 40, and her three children survive 34 DAYS in Colombian jungle after getting lost while on holiday and living off of wild fruits   \n",
       "2  The world’s most profitable hedge fund is now a climate radical. With $30 billion in assets, its money manager pushes portfolio companies to dramatically reduce greenhouse gas emissions and disclose their carbon footprint. If they don’t, he says he’ll oust their boards or dump their shares.   \n",
       "3                                                                                                                                                                                                                                           Prisoners taught coding so they can get jobs once released   \n",
       "4                                                                                                                                                                                      Actually, more people visit their library than attend the NFL, NHL, NBA, Nascar, or the movie theater COMBINED.   \n",
       "\n",
       "   total_awards_received    ups  \\\n",
       "0                      0   3708   \n",
       "1                      0  12121   \n",
       "2                      0   1316   \n",
       "3                      0    114   \n",
       "4                      0   1959   \n",
       "\n",
       "                                                                                                                                      url  \\\n",
       "0                                                            https://phys.org/news/2020-01-british-carbon-tax-coal-fired-electricity.html   \n",
       "1                     https://www.dailymail.co.uk/news/article-7933731/amp/Mother-40-three-children-survive-34-DAYS-Colombian-jungle.html   \n",
       "2  https://www.bloomberg.com/news/articles/2020-01-22/the-world-s-most-profitable-hedge-fund-is-now-a-climate-radical?srnd=premium-europe   \n",
       "3                            https://www.wtxl.com/news/national/program-teaches-prisoners-coding-so-they-can-land-tech-jobs-once-released   \n",
       "4                                                                         https://www.libraries2020.org/but_nobody_uses_libraries_anymore   \n",
       "\n",
       "   user_reports  view_count visited  whitelist_status  wls  \n",
       "0            []         NaN   False           all_ads    6  \n",
       "1            []         NaN   False           all_ads    6  \n",
       "2            []         NaN   False           all_ads    6  \n",
       "3            []         NaN   False           all_ads    6  \n",
       "4            []         NaN   False           all_ads    6  \n",
       "\n",
       "[5 rows x 106 columns]"
      ]
     },
     "execution_count": 3,
     "metadata": {},
     "output_type": "execute_result"
    }
   ],
   "source": [
    "df1.head()"
   ]
  },
  {
   "cell_type": "code",
   "execution_count": 4,
   "metadata": {},
   "outputs": [
    {
     "name": "stdout",
     "output_type": "stream",
     "text": [
      "<class 'pandas.core.frame.DataFrame'>\n",
      "RangeIndex: 1455 entries, 0 to 1454\n",
      "Columns: 106 entries, all_awardings to wls\n",
      "dtypes: bool(29), float64(33), int64(10), object(34)\n",
      "memory usage: 916.6+ KB\n"
     ]
    }
   ],
   "source": [
    "df1.info()"
   ]
  },
  {
   "cell_type": "code",
   "execution_count": 5,
   "metadata": {},
   "outputs": [
    {
     "data": {
      "text/plain": [
       "all_awardings                       0\n",
       "allow_live_comments                 0\n",
       "approved_at_utc                  1455\n",
       "approved_by                      1455\n",
       "archived                            0\n",
       "author                              0\n",
       "author_cakeday                   1451\n",
       "author_flair_background_color    1455\n",
       "author_flair_css_class           1455\n",
       "author_flair_richtext               0\n",
       "author_flair_template_id         1455\n",
       "author_flair_text                1455\n",
       "author_flair_text_color          1455\n",
       "author_flair_type                   0\n",
       "author_fullname                     0\n",
       "author_patreon_flair                0\n",
       "author_premium                      0\n",
       "awarders                            0\n",
       "banned_at_utc                    1455\n",
       "banned_by                        1455\n",
       "can_gild                            0\n",
       "can_mod_post                        0\n",
       "category                         1455\n",
       "clicked                             0\n",
       "content_categories               1455\n",
       "contest_mode                        0\n",
       "created                             0\n",
       "created_utc                         0\n",
       "crosspost_parent                 1117\n",
       "crosspost_parent_list            1117\n",
       "                                 ... \n",
       "removed_by                       1455\n",
       "removed_by_category              1455\n",
       "report_reasons                   1455\n",
       "saved                               0\n",
       "score                               0\n",
       "secure_media                     1451\n",
       "secure_media_embed                  0\n",
       "selftext                         1455\n",
       "selftext_html                    1455\n",
       "send_replies                        0\n",
       "spoiler                             0\n",
       "stickied                            0\n",
       "subreddit                           0\n",
       "subreddit_id                        0\n",
       "subreddit_name_prefixed             0\n",
       "subreddit_subscribers               0\n",
       "subreddit_type                      0\n",
       "suggested_sort                   1455\n",
       "thumbnail                           0\n",
       "thumbnail_height                   58\n",
       "thumbnail_width                    58\n",
       "title                               0\n",
       "total_awards_received               0\n",
       "ups                                 0\n",
       "url                                 0\n",
       "user_reports                        0\n",
       "view_count                       1455\n",
       "visited                             0\n",
       "whitelist_status                    0\n",
       "wls                                 0\n",
       "Length: 106, dtype: int64"
      ]
     },
     "execution_count": 5,
     "metadata": {},
     "output_type": "execute_result"
    }
   ],
   "source": [
    "df1.isnull().sum()"
   ]
  },
  {
   "cell_type": "code",
   "execution_count": 6,
   "metadata": {},
   "outputs": [
    {
     "data": {
      "text/html": [
       "<div>\n",
       "<style scoped>\n",
       "    .dataframe tbody tr th:only-of-type {\n",
       "        vertical-align: middle;\n",
       "    }\n",
       "\n",
       "    .dataframe tbody tr th {\n",
       "        vertical-align: top;\n",
       "    }\n",
       "\n",
       "    .dataframe thead th {\n",
       "        text-align: right;\n",
       "    }\n",
       "</style>\n",
       "<table border=\"1\" class=\"dataframe\">\n",
       "  <thead>\n",
       "    <tr style=\"text-align: right;\">\n",
       "      <th></th>\n",
       "      <th>all_awardings</th>\n",
       "      <th>allow_live_comments</th>\n",
       "      <th>approved_at_utc</th>\n",
       "      <th>approved_by</th>\n",
       "      <th>archived</th>\n",
       "      <th>author</th>\n",
       "      <th>author_flair_background_color</th>\n",
       "      <th>author_flair_css_class</th>\n",
       "      <th>author_flair_richtext</th>\n",
       "      <th>author_flair_template_id</th>\n",
       "      <th>...</th>\n",
       "      <th>thumbnail</th>\n",
       "      <th>title</th>\n",
       "      <th>total_awards_received</th>\n",
       "      <th>ups</th>\n",
       "      <th>url</th>\n",
       "      <th>user_reports</th>\n",
       "      <th>view_count</th>\n",
       "      <th>visited</th>\n",
       "      <th>whitelist_status</th>\n",
       "      <th>wls</th>\n",
       "    </tr>\n",
       "  </thead>\n",
       "  <tbody>\n",
       "    <tr>\n",
       "      <th>0</th>\n",
       "      <td>[]</td>\n",
       "      <td>True</td>\n",
       "      <td>NaN</td>\n",
       "      <td>NaN</td>\n",
       "      <td>False</td>\n",
       "      <td>WorldNewsMods</td>\n",
       "      <td>NaN</td>\n",
       "      <td>NaN</td>\n",
       "      <td>[]</td>\n",
       "      <td>NaN</td>\n",
       "      <td>...</td>\n",
       "      <td>NaN</td>\n",
       "      <td>[Live Thread] Wuhan Coronavirus</td>\n",
       "      <td>0</td>\n",
       "      <td>1814</td>\n",
       "      <td>https://www.reddit.com/live/14d816ty1ylvo/</td>\n",
       "      <td>[]</td>\n",
       "      <td>NaN</td>\n",
       "      <td>False</td>\n",
       "      <td>all_ads</td>\n",
       "      <td>6</td>\n",
       "    </tr>\n",
       "    <tr>\n",
       "      <th>1</th>\n",
       "      <td>[]</td>\n",
       "      <td>True</td>\n",
       "      <td>NaN</td>\n",
       "      <td>NaN</td>\n",
       "      <td>False</td>\n",
       "      <td>saurabh24_</td>\n",
       "      <td>NaN</td>\n",
       "      <td>NaN</td>\n",
       "      <td>[]</td>\n",
       "      <td>NaN</td>\n",
       "      <td>...</td>\n",
       "      <td>NaN</td>\n",
       "      <td>WHO says global risk of Wuhan virus is 'high'</td>\n",
       "      <td>0</td>\n",
       "      <td>29724</td>\n",
       "      <td>https://www.channelnewsasia.com/news/world/wuhan-virus-who-says-global-risk-is-high-china-12359024</td>\n",
       "      <td>[]</td>\n",
       "      <td>NaN</td>\n",
       "      <td>False</td>\n",
       "      <td>all_ads</td>\n",
       "      <td>6</td>\n",
       "    </tr>\n",
       "    <tr>\n",
       "      <th>2</th>\n",
       "      <td>[{'count': 1, 'is_enabled': True, 'subreddit_id': None, 'description': \"Shows the Silver Award... and that's it.\", 'end_date': None, 'award_sub_type': 'GLOBAL', 'coin_reward': 0, 'icon_url': 'https://www.redditstatic.com/gold/awards/icon/silver_512.png', 'days_of_premium': 0, 'is_new': False, 'id': 'gid_1', 'icon_height': 512, 'resized_icons': [{'url': 'https://www.redditstatic.com/gold/awards/icon/silver_16.png', 'width': 16, 'height': 16}, {'url': 'https://www.redditstatic.com/gold/awards/...</td>\n",
       "      <td>True</td>\n",
       "      <td>NaN</td>\n",
       "      <td>NaN</td>\n",
       "      <td>False</td>\n",
       "      <td>iyoiiiu</td>\n",
       "      <td>NaN</td>\n",
       "      <td>NaN</td>\n",
       "      <td>[]</td>\n",
       "      <td>NaN</td>\n",
       "      <td>...</td>\n",
       "      <td>NaN</td>\n",
       "      <td>Snowden Warns Targeting of Greenwald and Assange Shows Governments 'Ready to Stop the Presses—If They Can' - \"The most essential journalism of every era,\" says the NSA whistleblower, \"is precisely that which a government attempts to silence.\"</td>\n",
       "      <td>1</td>\n",
       "      <td>7097</td>\n",
       "      <td>https://www.commondreams.org/news/2020/01/27/snowden-warns-targeting-greenwald-and-assange-shows-governments-ready-stop-presses</td>\n",
       "      <td>[]</td>\n",
       "      <td>NaN</td>\n",
       "      <td>False</td>\n",
       "      <td>all_ads</td>\n",
       "      <td>6</td>\n",
       "    </tr>\n",
       "    <tr>\n",
       "      <th>3</th>\n",
       "      <td>[{'count': 1, 'is_enabled': True, 'subreddit_id': None, 'description': \"Shows the Silver Award... and that's it.\", 'end_date': None, 'award_sub_type': 'GLOBAL', 'coin_reward': 0, 'icon_url': 'https://www.redditstatic.com/gold/awards/icon/silver_512.png', 'days_of_premium': 0, 'is_new': False, 'id': 'gid_1', 'icon_height': 512, 'resized_icons': [{'url': 'https://www.redditstatic.com/gold/awards/icon/silver_16.png', 'width': 16, 'height': 16}, {'url': 'https://www.redditstatic.com/gold/awards/...</td>\n",
       "      <td>True</td>\n",
       "      <td>NaN</td>\n",
       "      <td>NaN</td>\n",
       "      <td>False</td>\n",
       "      <td>lughnasadh</td>\n",
       "      <td>NaN</td>\n",
       "      <td>NaN</td>\n",
       "      <td>[]</td>\n",
       "      <td>NaN</td>\n",
       "      <td>...</td>\n",
       "      <td>NaN</td>\n",
       "      <td>Leaked Documents Expose the Secretive Market for Your Web Browsing Data: An Avast antivirus subsidiary sells 'Every search. Every click. Every buy. On every site.'</td>\n",
       "      <td>1</td>\n",
       "      <td>4739</td>\n",
       "      <td>https://www.vice.com/en_us/article/qjdkq7/avast-antivirus-sells-user-browsing-data-investigation</td>\n",
       "      <td>[]</td>\n",
       "      <td>NaN</td>\n",
       "      <td>False</td>\n",
       "      <td>all_ads</td>\n",
       "      <td>6</td>\n",
       "    </tr>\n",
       "    <tr>\n",
       "      <th>4</th>\n",
       "      <td>[]</td>\n",
       "      <td>True</td>\n",
       "      <td>NaN</td>\n",
       "      <td>NaN</td>\n",
       "      <td>False</td>\n",
       "      <td>quixotic_cynic</td>\n",
       "      <td>NaN</td>\n",
       "      <td>NaN</td>\n",
       "      <td>[]</td>\n",
       "      <td>NaN</td>\n",
       "      <td>...</td>\n",
       "      <td>NaN</td>\n",
       "      <td>Prostate overtakes breast as 'most common cancer'</td>\n",
       "      <td>0</td>\n",
       "      <td>3781</td>\n",
       "      <td>https://www.bbc.co.uk/news/health-51263384</td>\n",
       "      <td>[]</td>\n",
       "      <td>NaN</td>\n",
       "      <td>False</td>\n",
       "      <td>all_ads</td>\n",
       "      <td>6</td>\n",
       "    </tr>\n",
       "  </tbody>\n",
       "</table>\n",
       "<p>5 rows × 102 columns</p>\n",
       "</div>"
      ],
      "text/plain": [
       "                                                                                                                                                                                                                                                                                                                                                                                                                                                                                                         all_awardings  \\\n",
       "0                                                                                                                                                                                                                                                                                                                                                                                                                                                                                                                   []   \n",
       "1                                                                                                                                                                                                                                                                                                                                                                                                                                                                                                                   []   \n",
       "2  [{'count': 1, 'is_enabled': True, 'subreddit_id': None, 'description': \"Shows the Silver Award... and that's it.\", 'end_date': None, 'award_sub_type': 'GLOBAL', 'coin_reward': 0, 'icon_url': 'https://www.redditstatic.com/gold/awards/icon/silver_512.png', 'days_of_premium': 0, 'is_new': False, 'id': 'gid_1', 'icon_height': 512, 'resized_icons': [{'url': 'https://www.redditstatic.com/gold/awards/icon/silver_16.png', 'width': 16, 'height': 16}, {'url': 'https://www.redditstatic.com/gold/awards/...   \n",
       "3  [{'count': 1, 'is_enabled': True, 'subreddit_id': None, 'description': \"Shows the Silver Award... and that's it.\", 'end_date': None, 'award_sub_type': 'GLOBAL', 'coin_reward': 0, 'icon_url': 'https://www.redditstatic.com/gold/awards/icon/silver_512.png', 'days_of_premium': 0, 'is_new': False, 'id': 'gid_1', 'icon_height': 512, 'resized_icons': [{'url': 'https://www.redditstatic.com/gold/awards/icon/silver_16.png', 'width': 16, 'height': 16}, {'url': 'https://www.redditstatic.com/gold/awards/...   \n",
       "4                                                                                                                                                                                                                                                                                                                                                                                                                                                                                                                   []   \n",
       "\n",
       "   allow_live_comments  approved_at_utc  approved_by  archived  \\\n",
       "0                 True              NaN          NaN     False   \n",
       "1                 True              NaN          NaN     False   \n",
       "2                 True              NaN          NaN     False   \n",
       "3                 True              NaN          NaN     False   \n",
       "4                 True              NaN          NaN     False   \n",
       "\n",
       "           author  author_flair_background_color  author_flair_css_class  \\\n",
       "0   WorldNewsMods                            NaN                     NaN   \n",
       "1      saurabh24_                            NaN                     NaN   \n",
       "2         iyoiiiu                            NaN                     NaN   \n",
       "3      lughnasadh                            NaN                     NaN   \n",
       "4  quixotic_cynic                            NaN                     NaN   \n",
       "\n",
       "  author_flair_richtext  author_flair_template_id  ...  thumbnail  \\\n",
       "0                    []                       NaN  ...        NaN   \n",
       "1                    []                       NaN  ...        NaN   \n",
       "2                    []                       NaN  ...        NaN   \n",
       "3                    []                       NaN  ...        NaN   \n",
       "4                    []                       NaN  ...        NaN   \n",
       "\n",
       "                                                                                                                                                                                                                                                title  \\\n",
       "0                                                                                                                                                                                                                     [Live Thread] Wuhan Coronavirus   \n",
       "1                                                                                                                                                                                                       WHO says global risk of Wuhan virus is 'high'   \n",
       "2  Snowden Warns Targeting of Greenwald and Assange Shows Governments 'Ready to Stop the Presses—If They Can' - \"The most essential journalism of every era,\" says the NSA whistleblower, \"is precisely that which a government attempts to silence.\"   \n",
       "3                                                                                 Leaked Documents Expose the Secretive Market for Your Web Browsing Data: An Avast antivirus subsidiary sells 'Every search. Every click. Every buy. On every site.'   \n",
       "4                                                                                                                                                                                                   Prostate overtakes breast as 'most common cancer'   \n",
       "\n",
       "  total_awards_received    ups  \\\n",
       "0                     0   1814   \n",
       "1                     0  29724   \n",
       "2                     1   7097   \n",
       "3                     1   4739   \n",
       "4                     0   3781   \n",
       "\n",
       "                                                                                                                               url  \\\n",
       "0                                                                                       https://www.reddit.com/live/14d816ty1ylvo/   \n",
       "1                               https://www.channelnewsasia.com/news/world/wuhan-virus-who-says-global-risk-is-high-china-12359024   \n",
       "2  https://www.commondreams.org/news/2020/01/27/snowden-warns-targeting-greenwald-and-assange-shows-governments-ready-stop-presses   \n",
       "3                                 https://www.vice.com/en_us/article/qjdkq7/avast-antivirus-sells-user-browsing-data-investigation   \n",
       "4                                                                                       https://www.bbc.co.uk/news/health-51263384   \n",
       "\n",
       "   user_reports view_count  visited  whitelist_status  wls  \n",
       "0            []        NaN    False           all_ads    6  \n",
       "1            []        NaN    False           all_ads    6  \n",
       "2            []        NaN    False           all_ads    6  \n",
       "3            []        NaN    False           all_ads    6  \n",
       "4            []        NaN    False           all_ads    6  \n",
       "\n",
       "[5 rows x 102 columns]"
      ]
     },
     "execution_count": 6,
     "metadata": {},
     "output_type": "execute_result"
    }
   ],
   "source": [
    "df2.head()"
   ]
  },
  {
   "cell_type": "code",
   "execution_count": 7,
   "metadata": {},
   "outputs": [
    {
     "name": "stdout",
     "output_type": "stream",
     "text": [
      "<class 'pandas.core.frame.DataFrame'>\n",
      "RangeIndex: 1493 entries, 0 to 1492\n",
      "Columns: 102 entries, all_awardings to wls\n",
      "dtypes: bool(29), float64(30), int64(10), object(33)\n",
      "memory usage: 893.8+ KB\n"
     ]
    }
   ],
   "source": [
    "df2.info()"
   ]
  },
  {
   "cell_type": "code",
   "execution_count": 8,
   "metadata": {},
   "outputs": [
    {
     "data": {
      "text/plain": [
       "all_awardings                       0\n",
       "allow_live_comments                 0\n",
       "approved_at_utc                  1493\n",
       "approved_by                      1493\n",
       "archived                            0\n",
       "author                              0\n",
       "author_flair_background_color    1493\n",
       "author_flair_css_class           1493\n",
       "author_flair_richtext               0\n",
       "author_flair_template_id         1493\n",
       "author_flair_text                1493\n",
       "author_flair_text_color          1493\n",
       "author_flair_type                   0\n",
       "author_fullname                     0\n",
       "author_patreon_flair                0\n",
       "author_premium                      0\n",
       "awarders                            0\n",
       "banned_at_utc                    1493\n",
       "banned_by                        1493\n",
       "can_gild                            0\n",
       "can_mod_post                        0\n",
       "category                         1493\n",
       "clicked                             0\n",
       "content_categories               1493\n",
       "contest_mode                        0\n",
       "created                             0\n",
       "created_utc                         0\n",
       "crosspost_parent                 1468\n",
       "crosspost_parent_list            1468\n",
       "discussion_type                  1493\n",
       "                                 ... \n",
       "quarantine                          0\n",
       "removal_reason                   1493\n",
       "removed_by                       1493\n",
       "removed_by_category              1493\n",
       "report_reasons                   1493\n",
       "saved                               0\n",
       "score                               0\n",
       "secure_media                     1493\n",
       "secure_media_embed                  0\n",
       "selftext                         1493\n",
       "selftext_html                    1493\n",
       "send_replies                        0\n",
       "spoiler                             0\n",
       "stickied                            0\n",
       "subreddit                           0\n",
       "subreddit_id                        0\n",
       "subreddit_name_prefixed             0\n",
       "subreddit_subscribers               0\n",
       "subreddit_type                      0\n",
       "suggested_sort                   1490\n",
       "thumbnail                        1493\n",
       "title                               0\n",
       "total_awards_received               0\n",
       "ups                                 0\n",
       "url                                 0\n",
       "user_reports                        0\n",
       "view_count                       1493\n",
       "visited                             0\n",
       "whitelist_status                    0\n",
       "wls                                 0\n",
       "Length: 102, dtype: int64"
      ]
     },
     "execution_count": 8,
     "metadata": {},
     "output_type": "execute_result"
    }
   ],
   "source": [
    "df2.isnull().sum()"
   ]
  },
  {
   "cell_type": "markdown",
   "metadata": {},
   "source": [
    "### 1.2. Data Cleaning"
   ]
  },
  {
   "cell_type": "code",
   "execution_count": 9,
   "metadata": {},
   "outputs": [
    {
     "name": "stdout",
     "output_type": "stream",
     "text": [
      "410\n"
     ]
    },
    {
     "data": {
      "text/plain": [
       "672"
      ]
     },
     "execution_count": 9,
     "metadata": {},
     "output_type": "execute_result"
    }
   ],
   "source": [
    "#Dropping duplicate\n",
    "df1.drop_duplicates(subset='name',inplace=True)\n",
    "df2.drop_duplicates(subset = 'name',inplace=True)\n",
    "print(len(df1))\n",
    "len(df2)"
   ]
  },
  {
   "cell_type": "code",
   "execution_count": 10,
   "metadata": {},
   "outputs": [],
   "source": [
    "#Keeping only columns require for classication\n",
    "df1 =df1[['selftext','title','subreddit']]\n",
    "df2 = df2[['selftext','title','subreddit']]"
   ]
  },
  {
   "cell_type": "code",
   "execution_count": 11,
   "metadata": {},
   "outputs": [
    {
     "data": {
      "text/plain": [
       "selftext     410\n",
       "title          0\n",
       "subreddit      0\n",
       "dtype: int64"
      ]
     },
     "execution_count": 11,
     "metadata": {},
     "output_type": "execute_result"
    }
   ],
   "source": [
    "df1.isnull().sum()"
   ]
  },
  {
   "cell_type": "markdown",
   "metadata": {},
   "source": [
    "Null in selftext can be ignored as it means that the content in this subreddit are all within the title of the post, which means we only have to keep the title column for classification."
   ]
  },
  {
   "cell_type": "code",
   "execution_count": 12,
   "metadata": {},
   "outputs": [
    {
     "data": {
      "text/plain": [
       "selftext     672\n",
       "title          0\n",
       "subreddit      0\n",
       "dtype: int64"
      ]
     },
     "execution_count": 12,
     "metadata": {},
     "output_type": "execute_result"
    }
   ],
   "source": [
    "df2.isnull().sum()"
   ]
  },
  {
   "cell_type": "markdown",
   "metadata": {},
   "source": [
    "Null in selftext can be ignored as it means that the content in this subreddit are all within the title of the post, which means we only have to keep the title column for classification."
   ]
  },
  {
   "cell_type": "code",
   "execution_count": 13,
   "metadata": {},
   "outputs": [],
   "source": [
    "#Changing column name 'title' to 'post' \n",
    "df1.columns = ['selftext','post','subreddit']\n",
    "df2.columns = ['selftext','post','subreddit']"
   ]
  },
  {
   "cell_type": "code",
   "execution_count": 14,
   "metadata": {},
   "outputs": [
    {
     "data": {
      "text/html": [
       "<div>\n",
       "<style scoped>\n",
       "    .dataframe tbody tr th:only-of-type {\n",
       "        vertical-align: middle;\n",
       "    }\n",
       "\n",
       "    .dataframe tbody tr th {\n",
       "        vertical-align: top;\n",
       "    }\n",
       "\n",
       "    .dataframe thead th {\n",
       "        text-align: right;\n",
       "    }\n",
       "</style>\n",
       "<table border=\"1\" class=\"dataframe\">\n",
       "  <thead>\n",
       "    <tr style=\"text-align: right;\">\n",
       "      <th></th>\n",
       "      <th>post</th>\n",
       "      <th>subreddit</th>\n",
       "    </tr>\n",
       "  </thead>\n",
       "  <tbody>\n",
       "    <tr>\n",
       "      <th>0</th>\n",
       "      <td>British carbon tax leads to 93% drop in coal-fired electricity</td>\n",
       "      <td>UpliftingNews</td>\n",
       "    </tr>\n",
       "    <tr>\n",
       "      <th>1</th>\n",
       "      <td>Mother, 40, and her three children survive 34 DAYS in Colombian jungle after getting lost while on holiday and living off of wild fruits</td>\n",
       "      <td>UpliftingNews</td>\n",
       "    </tr>\n",
       "    <tr>\n",
       "      <th>2</th>\n",
       "      <td>The world’s most profitable hedge fund is now a climate radical. With $30 billion in assets, its money manager pushes portfolio companies to dramatically reduce greenhouse gas emissions and disclose their carbon footprint. If they don’t, he says he’ll oust their boards or dump their shares.</td>\n",
       "      <td>UpliftingNews</td>\n",
       "    </tr>\n",
       "    <tr>\n",
       "      <th>3</th>\n",
       "      <td>Prisoners taught coding so they can get jobs once released</td>\n",
       "      <td>UpliftingNews</td>\n",
       "    </tr>\n",
       "    <tr>\n",
       "      <th>4</th>\n",
       "      <td>Actually, more people visit their library than attend the NFL, NHL, NBA, Nascar, or the movie theater COMBINED.</td>\n",
       "      <td>UpliftingNews</td>\n",
       "    </tr>\n",
       "  </tbody>\n",
       "</table>\n",
       "</div>"
      ],
      "text/plain": [
       "                                                                                                                                                                                                                                                                                                  post  \\\n",
       "0                                                                                                                                                                                                                                       British carbon tax leads to 93% drop in coal-fired electricity   \n",
       "1                                                                                                                                                             Mother, 40, and her three children survive 34 DAYS in Colombian jungle after getting lost while on holiday and living off of wild fruits   \n",
       "2  The world’s most profitable hedge fund is now a climate radical. With $30 billion in assets, its money manager pushes portfolio companies to dramatically reduce greenhouse gas emissions and disclose their carbon footprint. If they don’t, he says he’ll oust their boards or dump their shares.   \n",
       "3                                                                                                                                                                                                                                           Prisoners taught coding so they can get jobs once released   \n",
       "4                                                                                                                                                                                      Actually, more people visit their library than attend the NFL, NHL, NBA, Nascar, or the movie theater COMBINED.   \n",
       "\n",
       "       subreddit  \n",
       "0  UpliftingNews  \n",
       "1  UpliftingNews  \n",
       "2  UpliftingNews  \n",
       "3  UpliftingNews  \n",
       "4  UpliftingNews  "
      ]
     },
     "execution_count": 14,
     "metadata": {},
     "output_type": "execute_result"
    }
   ],
   "source": [
    "#Dropping selftext\n",
    "df1 = df1[['post','subreddit']]\n",
    "df1.head()"
   ]
  },
  {
   "cell_type": "code",
   "execution_count": 15,
   "metadata": {},
   "outputs": [
    {
     "data": {
      "text/html": [
       "<div>\n",
       "<style scoped>\n",
       "    .dataframe tbody tr th:only-of-type {\n",
       "        vertical-align: middle;\n",
       "    }\n",
       "\n",
       "    .dataframe tbody tr th {\n",
       "        vertical-align: top;\n",
       "    }\n",
       "\n",
       "    .dataframe thead th {\n",
       "        text-align: right;\n",
       "    }\n",
       "</style>\n",
       "<table border=\"1\" class=\"dataframe\">\n",
       "  <thead>\n",
       "    <tr style=\"text-align: right;\">\n",
       "      <th></th>\n",
       "      <th>post</th>\n",
       "      <th>subreddit</th>\n",
       "    </tr>\n",
       "  </thead>\n",
       "  <tbody>\n",
       "    <tr>\n",
       "      <th>0</th>\n",
       "      <td>[Live Thread] Wuhan Coronavirus</td>\n",
       "      <td>worldnews</td>\n",
       "    </tr>\n",
       "    <tr>\n",
       "      <th>1</th>\n",
       "      <td>WHO says global risk of Wuhan virus is 'high'</td>\n",
       "      <td>worldnews</td>\n",
       "    </tr>\n",
       "    <tr>\n",
       "      <th>2</th>\n",
       "      <td>Snowden Warns Targeting of Greenwald and Assange Shows Governments 'Ready to Stop the Presses—If They Can' - \"The most essential journalism of every era,\" says the NSA whistleblower, \"is precisely that which a government attempts to silence.\"</td>\n",
       "      <td>worldnews</td>\n",
       "    </tr>\n",
       "    <tr>\n",
       "      <th>3</th>\n",
       "      <td>Leaked Documents Expose the Secretive Market for Your Web Browsing Data: An Avast antivirus subsidiary sells 'Every search. Every click. Every buy. On every site.'</td>\n",
       "      <td>worldnews</td>\n",
       "    </tr>\n",
       "    <tr>\n",
       "      <th>4</th>\n",
       "      <td>Prostate overtakes breast as 'most common cancer'</td>\n",
       "      <td>worldnews</td>\n",
       "    </tr>\n",
       "  </tbody>\n",
       "</table>\n",
       "</div>"
      ],
      "text/plain": [
       "                                                                                                                                                                                                                                                 post  \\\n",
       "0                                                                                                                                                                                                                     [Live Thread] Wuhan Coronavirus   \n",
       "1                                                                                                                                                                                                       WHO says global risk of Wuhan virus is 'high'   \n",
       "2  Snowden Warns Targeting of Greenwald and Assange Shows Governments 'Ready to Stop the Presses—If They Can' - \"The most essential journalism of every era,\" says the NSA whistleblower, \"is precisely that which a government attempts to silence.\"   \n",
       "3                                                                                 Leaked Documents Expose the Secretive Market for Your Web Browsing Data: An Avast antivirus subsidiary sells 'Every search. Every click. Every buy. On every site.'   \n",
       "4                                                                                                                                                                                                   Prostate overtakes breast as 'most common cancer'   \n",
       "\n",
       "   subreddit  \n",
       "0  worldnews  \n",
       "1  worldnews  \n",
       "2  worldnews  \n",
       "3  worldnews  \n",
       "4  worldnews  "
      ]
     },
     "execution_count": 15,
     "metadata": {},
     "output_type": "execute_result"
    }
   ],
   "source": [
    "#Dropping selftext\n",
    "df2 = df2[['post','subreddit']]\n",
    "df2.head()"
   ]
  },
  {
   "cell_type": "code",
   "execution_count": 16,
   "metadata": {},
   "outputs": [
    {
     "data": {
      "text/html": [
       "<div>\n",
       "<style scoped>\n",
       "    .dataframe tbody tr th:only-of-type {\n",
       "        vertical-align: middle;\n",
       "    }\n",
       "\n",
       "    .dataframe tbody tr th {\n",
       "        vertical-align: top;\n",
       "    }\n",
       "\n",
       "    .dataframe thead th {\n",
       "        text-align: right;\n",
       "    }\n",
       "</style>\n",
       "<table border=\"1\" class=\"dataframe\">\n",
       "  <thead>\n",
       "    <tr style=\"text-align: right;\">\n",
       "      <th></th>\n",
       "      <th>post</th>\n",
       "      <th>subreddit</th>\n",
       "    </tr>\n",
       "  </thead>\n",
       "  <tbody>\n",
       "    <tr>\n",
       "      <th>0</th>\n",
       "      <td>British carbon tax leads to 93% drop in coal-fired electricity</td>\n",
       "      <td>UpliftingNews</td>\n",
       "    </tr>\n",
       "    <tr>\n",
       "      <th>1</th>\n",
       "      <td>Mother, 40, and her three children survive 34 DAYS in Colombian jungle after getting lost while on holiday and living off of wild fruits</td>\n",
       "      <td>UpliftingNews</td>\n",
       "    </tr>\n",
       "    <tr>\n",
       "      <th>2</th>\n",
       "      <td>The world’s most profitable hedge fund is now a climate radical. With $30 billion in assets, its money manager pushes portfolio companies to dramatically reduce greenhouse gas emissions and disclose their carbon footprint. If they don’t, he says he’ll oust their boards or dump their shares.</td>\n",
       "      <td>UpliftingNews</td>\n",
       "    </tr>\n",
       "    <tr>\n",
       "      <th>3</th>\n",
       "      <td>Prisoners taught coding so they can get jobs once released</td>\n",
       "      <td>UpliftingNews</td>\n",
       "    </tr>\n",
       "    <tr>\n",
       "      <th>4</th>\n",
       "      <td>Actually, more people visit their library than attend the NFL, NHL, NBA, Nascar, or the movie theater COMBINED.</td>\n",
       "      <td>UpliftingNews</td>\n",
       "    </tr>\n",
       "  </tbody>\n",
       "</table>\n",
       "</div>"
      ],
      "text/plain": [
       "                                                                                                                                                                                                                                                                                                  post  \\\n",
       "0                                                                                                                                                                                                                                       British carbon tax leads to 93% drop in coal-fired electricity   \n",
       "1                                                                                                                                                             Mother, 40, and her three children survive 34 DAYS in Colombian jungle after getting lost while on holiday and living off of wild fruits   \n",
       "2  The world’s most profitable hedge fund is now a climate radical. With $30 billion in assets, its money manager pushes portfolio companies to dramatically reduce greenhouse gas emissions and disclose their carbon footprint. If they don’t, he says he’ll oust their boards or dump their shares.   \n",
       "3                                                                                                                                                                                                                                           Prisoners taught coding so they can get jobs once released   \n",
       "4                                                                                                                                                                                      Actually, more people visit their library than attend the NFL, NHL, NBA, Nascar, or the movie theater COMBINED.   \n",
       "\n",
       "       subreddit  \n",
       "0  UpliftingNews  \n",
       "1  UpliftingNews  \n",
       "2  UpliftingNews  \n",
       "3  UpliftingNews  \n",
       "4  UpliftingNews  "
      ]
     },
     "execution_count": 16,
     "metadata": {},
     "output_type": "execute_result"
    }
   ],
   "source": [
    "#Combining 2 dataframe\n",
    "reddit = pd.concat([df1,df2],axis=0)\n",
    "reddit.head()"
   ]
  },
  {
   "cell_type": "code",
   "execution_count": 17,
   "metadata": {},
   "outputs": [],
   "source": [
    "#Mapping UpliftingNews = 0, worldnews = 1\n",
    "reddit['subreddit'] = reddit['subreddit'].apply(lambda x: 1 if x=='worldnews' else 0)"
   ]
  },
  {
   "cell_type": "markdown",
   "metadata": {},
   "source": [
    "### 1.3. EDA"
   ]
  },
  {
   "cell_type": "code",
   "execution_count": 18,
   "metadata": {},
   "outputs": [
    {
     "data": {
      "text/plain": [
       "1    672\n",
       "0    410\n",
       "Name: subreddit, dtype: int64"
      ]
     },
     "execution_count": 18,
     "metadata": {},
     "output_type": "execute_result"
    }
   ],
   "source": [
    "reddit['subreddit'].value_counts()"
   ]
  },
  {
   "cell_type": "code",
   "execution_count": 19,
   "metadata": {},
   "outputs": [
    {
     "data": {
      "text/plain": [
       "1    0.621072\n",
       "0    0.378928\n",
       "Name: subreddit, dtype: float64"
      ]
     },
     "execution_count": 19,
     "metadata": {},
     "output_type": "execute_result"
    }
   ],
   "source": [
    "reddit['subreddit'].value_counts(normalize=True)"
   ]
  },
  {
   "cell_type": "markdown",
   "metadata": {},
   "source": [
    "The predicting model must at least do better than 0.62 in terms of accuracy."
   ]
  },
  {
   "cell_type": "code",
   "execution_count": 60,
   "metadata": {},
   "outputs": [],
   "source": [
    "#Create customised toknizer that can be used for toknizing & leammtizing in count vectorizer\n",
    "def textblob_tokenizer(str_input):\n",
    "    blob = TextBlob(str_input.lower())\n",
    "    tokens = blob.words\n",
    "    words = [token.lemmatize() for token in tokens]\n",
    "    return words\n",
    "\n",
    "#Tokenize & Lemaatize Stop Words\n",
    "sets=[text.ENGLISH_STOP_WORDS]\n",
    "stop_words = [list(x) for x in sets]\n",
    "sw = [textblob_tokenizer(i) for i in stop_words[0]]\n",
    "\n",
    "#Creating a list for lemmatised stop words\n",
    "sw1=[]\n",
    "for i in sw:\n",
    "    for j in i:\n",
    "        sw1.append(j)"
   ]
  },
  {
   "cell_type": "code",
   "execution_count": 179,
   "metadata": {},
   "outputs": [
    {
     "data": {
      "image/png": "[encoded data removed]",
      "text/plain": [
       "<Figure size 1080x720 with 1 Axes>"
      ]
     },
     "metadata": {
      "needs_background": "light"
     },
     "output_type": "display_data"
    }
   ],
   "source": [
    "#Declar count vectorizer for EDA purpose\n",
    "cvec_eda = CountVectorizer(stop_words=sw1, tokenizer=textblob_tokenizer)\n",
    "\n",
    "#Fit and transform uplifting news DataFrame, convert into new dataframe with frequency occurrance of each token\n",
    "cvec_eda.fit(df1['post'])\n",
    "word1 = cvec_eda.transform(df1['post'])\n",
    "df_word1 = pd.DataFrame(word1.toarray(),columns=cvec_eda.get_feature_names())\n",
    "df_word1 = pd.DataFrame(df_word1.sum(),columns=['Freq'])\n",
    "\n",
    "#Plot only the top 20 most occurrance tokens\n",
    "xplot = df_word1['Freq'].sort_values(ascending=False)[0:21]\n",
    "yplot = df_word1['Freq'].sort_values(ascending=False).index[0:21]\n",
    "                                     \n",
    "plt.figure(figsize=(15, 10))\n",
    "plt.yticks(fontsize=16)\n",
    "sns.barplot(xplot,yplot,color='#0079D3')\n",
    "plt.savefig('../img/uplifting_words.png');\n",
    "plt.show()"
   ]
  },
  {
   "cell_type": "code",
   "execution_count": 180,
   "metadata": {},
   "outputs": [
    {
     "data": {
      "image/png": "[encoded data removed]",
      "text/plain": [
       "<Figure size 1080x720 with 1 Axes>"
      ]
     },
     "metadata": {
      "needs_background": "light"
     },
     "output_type": "display_data"
    }
   ],
   "source": [
    "#Fit and transform uplifting news DataFrame, convert into new dataframe with frequency occurrance of each token\n",
    "cvec_eda.fit(df2['post'])\n",
    "word2 = cvec_eda.transform(df2['post'])\n",
    "df_word2 = pd.DataFrame(word2.toarray(),columns=cvec_eda.get_feature_names())\n",
    "df_word2 = pd.DataFrame(df_word2.sum(),columns=['Freq'])\n",
    "\n",
    "#Plot only the top 20 most occurrance tokens\n",
    "xplot = df_word2['Freq'].sort_values(ascending=False)[0:21]\n",
    "yplot = df_word2['Freq'].sort_values(ascending=False).index[0:21]\n",
    "                                     \n",
    "plt.figure(figsize=(15, 10))\n",
    "plt.yticks(fontsize=16)\n",
    "sns.barplot(xplot,yplot,color='#FF4500')\n",
    "plt.savefig('../img/worldnews_words.png');\n",
    "plt.show()"
   ]
  },
  {
   "cell_type": "markdown",
   "metadata": {},
   "source": [
    "From the 2 bar plots above, we can see that the tokens that occur the most from each subreddit are highly time/event specific. This make sense as the data obtained from reddit API are limited to 600-700 most recent post and news related subreddit will be affected by current event. This means that the classification model used later, no matter the accuracy, will still have limitations in unseen data as news headline is very time/event specific.\n",
    "\n",
    "There are also 'dirty' tokens such as '/s' and 's' in both subreddit, these tokens will be taken note of if they appear to be a top key tokens for the classification used later. "
   ]
  },
  {
   "cell_type": "markdown",
   "metadata": {},
   "source": [
    "## 2. Model Preparation"
   ]
  },
  {
   "cell_type": "code",
   "execution_count": 20,
   "metadata": {},
   "outputs": [],
   "source": [
    "X = reddit['post']\n",
    "y = reddit['subreddit']"
   ]
  },
  {
   "cell_type": "code",
   "execution_count": 21,
   "metadata": {},
   "outputs": [],
   "source": [
    "X_train, X_test, y_train, y_test = train_test_split(X, y, test_size=0.25, random_state=33,stratify=y)"
   ]
  },
  {
   "cell_type": "markdown",
   "metadata": {},
   "source": [
    "## 3. Model Validation"
   ]
  },
  {
   "cell_type": "markdown",
   "metadata": {},
   "source": [
    "### 3.1. Logistic Regression"
   ]
  },
  {
   "cell_type": "markdown",
   "metadata": {},
   "source": [
    "#### 3.1.1 Count Vectorizer"
   ]
  },
  {
   "cell_type": "code",
   "execution_count": 24,
   "metadata": {},
   "outputs": [],
   "source": [
    "pipe_lr_cvec = Pipeline([\n",
    "    ('cvec', CountVectorizer(stop_words=sw1,tokenizer=textblob_tokenizer)),\n",
    "    ('lr', LogisticRegression(solver='liblinear'))\n",
    "])"
   ]
  },
  {
   "cell_type": "code",
   "execution_count": 25,
   "metadata": {},
   "outputs": [
    {
     "name": "stdout",
     "output_type": "stream",
     "text": [
      "Fitting 3 folds for each of 36 candidates, totalling 108 fits\n"
     ]
    },
    {
     "name": "stderr",
     "output_type": "stream",
     "text": [
      "[Parallel(n_jobs=1)]: Using backend SequentialBackend with 1 concurrent workers.\n",
      "[Parallel(n_jobs=1)]: Done 108 out of 108 | elapsed:  1.5min finished\n"
     ]
    },
    {
     "name": "stdout",
     "output_type": "stream",
     "text": [
      "0.7854500616522812\n"
     ]
    },
    {
     "data": {
      "text/plain": [
       "{'cvec__max_df': 0.5,\n",
       " 'cvec__max_features': 400,\n",
       " 'cvec__min_df': 2,\n",
       " 'cvec__ngram_range': (1, 2),\n",
       " 'lr__penalty': 'l1'}"
      ]
     },
     "execution_count": 25,
     "metadata": {},
     "output_type": "execute_result"
    }
   ],
   "source": [
    "pipe_lr_params = {\n",
    "    'cvec__max_features': [400,450,500],\n",
    "    'cvec__min_df': [1,2],\n",
    "    'cvec__max_df': [.5,.7],\n",
    "    'cvec__ngram_range': [(1,1), (1,2),(1,3)],\n",
    "    'lr__penalty':['l1'],\n",
    "}\n",
    "gs1 = GridSearchCV(pipe_lr_cvec, param_grid=pipe_lr_params, verbose=1,cv=3)\n",
    "gs1.fit(X_train, y_train)\n",
    "print(gs1.best_score_)\n",
    "gs1.best_params_"
   ]
  },
  {
   "cell_type": "code",
   "execution_count": 26,
   "metadata": {},
   "outputs": [
    {
     "data": {
      "text/plain": [
       "0.8890258939580764"
      ]
     },
     "execution_count": 26,
     "metadata": {},
     "output_type": "execute_result"
    }
   ],
   "source": [
    "gs1.score(X_train, y_train)"
   ]
  },
  {
   "cell_type": "code",
   "execution_count": 27,
   "metadata": {},
   "outputs": [
    {
     "data": {
      "text/plain": [
       "0.8118081180811808"
      ]
     },
     "execution_count": 27,
     "metadata": {},
     "output_type": "execute_result"
    }
   ],
   "source": [
    "gs1.score(X_test, y_test)"
   ]
  },
  {
   "cell_type": "markdown",
   "metadata": {},
   "source": [
    "#### 3.1.2 TFIDF"
   ]
  },
  {
   "cell_type": "code",
   "execution_count": 28,
   "metadata": {},
   "outputs": [],
   "source": [
    "pipe_lr_tvec = Pipeline([\n",
    "    ('tvec',  TfidfVectorizer(stop_words=sw1,tokenizer=textblob_tokenizer)),\n",
    "    ('lr', LogisticRegression(solver='liblinear'))\n",
    "])"
   ]
  },
  {
   "cell_type": "code",
   "execution_count": 29,
   "metadata": {},
   "outputs": [
    {
     "name": "stdout",
     "output_type": "stream",
     "text": [
      "Fitting 3 folds for each of 36 candidates, totalling 108 fits\n"
     ]
    },
    {
     "name": "stderr",
     "output_type": "stream",
     "text": [
      "[Parallel(n_jobs=1)]: Using backend SequentialBackend with 1 concurrent workers.\n",
      "[Parallel(n_jobs=1)]: Done 108 out of 108 | elapsed:  1.5min finished\n"
     ]
    },
    {
     "name": "stdout",
     "output_type": "stream",
     "text": [
      "0.7237977805178791\n"
     ]
    },
    {
     "data": {
      "text/plain": [
       "{'lr__penalty': 'l1',\n",
       " 'tvec__max_df': 0.5,\n",
       " 'tvec__max_features': 400,\n",
       " 'tvec__min_df': 1,\n",
       " 'tvec__ngram_range': (1, 3)}"
      ]
     },
     "execution_count": 29,
     "metadata": {},
     "output_type": "execute_result"
    }
   ],
   "source": [
    "pipe_lr_params = {\n",
    "    'tvec__max_features': [400,450,500],\n",
    "    'tvec__min_df': [1,2],\n",
    "    'tvec__max_df': [.5,.7],\n",
    "    'tvec__ngram_range': [(1,1), (1,2),(1,3)],\n",
    "    'lr__penalty':['l1'],\n",
    "}\n",
    "gs1_1 = GridSearchCV(pipe_lr_tvec, param_grid=pipe_lr_params,verbose=1, cv=3)\n",
    "gs1_1.fit(X_train, y_train)\n",
    "print(gs1_1.best_score_)\n",
    "gs1_1.best_params_"
   ]
  },
  {
   "cell_type": "code",
   "execution_count": 30,
   "metadata": {},
   "outputs": [
    {
     "data": {
      "text/plain": [
       "0.8286066584463625"
      ]
     },
     "execution_count": 30,
     "metadata": {},
     "output_type": "execute_result"
    }
   ],
   "source": [
    "gs1_1.score(X_train, y_train)"
   ]
  },
  {
   "cell_type": "code",
   "execution_count": 31,
   "metadata": {},
   "outputs": [
    {
     "data": {
      "text/plain": [
       "0.7896678966789668"
      ]
     },
     "execution_count": 31,
     "metadata": {},
     "output_type": "execute_result"
    }
   ],
   "source": [
    "gs1_1.score(X_test, y_test)"
   ]
  },
  {
   "cell_type": "code",
   "execution_count": 32,
   "metadata": {},
   "outputs": [
    {
     "name": "stdout",
     "output_type": "stream",
     "text": [
      "Cvec LR score:0.89\n",
      "Tvec LR score:0.83\n"
     ]
    }
   ],
   "source": [
    "print(f'Cvec LR score:{round(gs1.score(X_train, y_train),2)}')\n",
    "print(f'Tvec LR score:{round(gs1_1.score(X_train, y_train),2)}')"
   ]
  },
  {
   "cell_type": "markdown",
   "metadata": {},
   "source": [
    "### 3.2. Multinomial"
   ]
  },
  {
   "cell_type": "markdown",
   "metadata": {},
   "source": [
    "#### 3.2.1. Count Vectorizer"
   ]
  },
  {
   "cell_type": "code",
   "execution_count": 33,
   "metadata": {},
   "outputs": [],
   "source": [
    "pipe_mn_cvec = Pipeline([\n",
    "    ('cvec', CountVectorizer(stop_words=sw1,tokenizer=textblob_tokenizer)),\n",
    "    ('nb', MultinomialNB())\n",
    "])"
   ]
  },
  {
   "cell_type": "code",
   "execution_count": 34,
   "metadata": {},
   "outputs": [
    {
     "name": "stdout",
     "output_type": "stream",
     "text": [
      "Fitting 3 folds for each of 36 candidates, totalling 108 fits\n"
     ]
    },
    {
     "name": "stderr",
     "output_type": "stream",
     "text": [
      "[Parallel(n_jobs=1)]: Using backend SequentialBackend with 1 concurrent workers.\n",
      "[Parallel(n_jobs=1)]: Done 108 out of 108 | elapsed:  1.5min finished\n"
     ]
    },
    {
     "name": "stdout",
     "output_type": "stream",
     "text": [
      "0.812577065351418\n"
     ]
    },
    {
     "data": {
      "text/plain": [
       "{'cvec__max_df': 0.5,\n",
       " 'cvec__max_features': 450,\n",
       " 'cvec__min_df': 1,\n",
       " 'cvec__ngram_range': (1, 1)}"
      ]
     },
     "execution_count": 34,
     "metadata": {},
     "output_type": "execute_result"
    }
   ],
   "source": [
    "pipe_mn_params = {\n",
    "    'cvec__max_features': [400,450,500],\n",
    "    'cvec__min_df': [1,2],\n",
    "    'cvec__max_df': [.5,.7],\n",
    "    'cvec__ngram_range': [(1,1), (1,2),(1,3)],\n",
    "}\n",
    "gs2 = GridSearchCV(pipe_mn_cvec, param_grid=pipe_mn_params, verbose=1, cv=3)\n",
    "gs2.fit(X_train, y_train)\n",
    "print(gs2.best_score_)\n",
    "gs2.best_params_"
   ]
  },
  {
   "cell_type": "code",
   "execution_count": 35,
   "metadata": {},
   "outputs": [
    {
     "data": {
      "text/plain": [
       "0.8754623921085081"
      ]
     },
     "execution_count": 35,
     "metadata": {},
     "output_type": "execute_result"
    }
   ],
   "source": [
    "gs2.score(X_train, y_train)"
   ]
  },
  {
   "cell_type": "code",
   "execution_count": 36,
   "metadata": {
    "scrolled": true
   },
   "outputs": [
    {
     "data": {
      "text/plain": [
       "0.8191881918819188"
      ]
     },
     "execution_count": 36,
     "metadata": {},
     "output_type": "execute_result"
    }
   ],
   "source": [
    "gs2.score(X_test, y_test)"
   ]
  },
  {
   "cell_type": "markdown",
   "metadata": {},
   "source": [
    "#### 3.2.2. TFIDF"
   ]
  },
  {
   "cell_type": "code",
   "execution_count": 37,
   "metadata": {},
   "outputs": [],
   "source": [
    "pipe_mn_tvec = Pipeline([\n",
    "    ('tvec',  TfidfVectorizer(stop_words=sw1,tokenizer=textblob_tokenizer)),\n",
    "    ('nb', MultinomialNB())\n",
    "])"
   ]
  },
  {
   "cell_type": "code",
   "execution_count": 38,
   "metadata": {},
   "outputs": [
    {
     "name": "stdout",
     "output_type": "stream",
     "text": [
      "Fitting 3 folds for each of 36 candidates, totalling 108 fits\n"
     ]
    },
    {
     "name": "stderr",
     "output_type": "stream",
     "text": [
      "[Parallel(n_jobs=1)]: Using backend SequentialBackend with 1 concurrent workers.\n",
      "[Parallel(n_jobs=1)]: Done 108 out of 108 | elapsed:  1.5min finished\n"
     ]
    },
    {
     "name": "stdout",
     "output_type": "stream",
     "text": [
      "0.7977805178791615\n"
     ]
    },
    {
     "data": {
      "text/plain": [
       "{'tvec__max_df': 0.5,\n",
       " 'tvec__max_features': 400,\n",
       " 'tvec__min_df': 2,\n",
       " 'tvec__ngram_range': (1, 2)}"
      ]
     },
     "execution_count": 38,
     "metadata": {},
     "output_type": "execute_result"
    }
   ],
   "source": [
    "pipe_mn_params = {\n",
    "    'tvec__max_features': [400,450,500],\n",
    "    'tvec__min_df': [1,2],\n",
    "    'tvec__max_df': [.5,.7],\n",
    "    'tvec__ngram_range': [(1,1), (1,2),(1,3)],\n",
    "}\n",
    "gs2_1 = GridSearchCV(pipe_mn_tvec, param_grid=pipe_mn_params, verbose=1, cv=3)\n",
    "gs2_1.fit(X_train, y_train)\n",
    "print(gs2_1.best_score_)\n",
    "gs2_1.best_params_"
   ]
  },
  {
   "cell_type": "code",
   "execution_count": 39,
   "metadata": {},
   "outputs": [
    {
     "data": {
      "text/plain": [
       "0.8717632552404438"
      ]
     },
     "execution_count": 39,
     "metadata": {},
     "output_type": "execute_result"
    }
   ],
   "source": [
    "gs2_1.score(X_train, y_train)"
   ]
  },
  {
   "cell_type": "code",
   "execution_count": 40,
   "metadata": {},
   "outputs": [
    {
     "data": {
      "text/plain": [
       "0.8154981549815498"
      ]
     },
     "execution_count": 40,
     "metadata": {},
     "output_type": "execute_result"
    }
   ],
   "source": [
    "gs2_1.score(X_test, y_test)"
   ]
  },
  {
   "cell_type": "code",
   "execution_count": 41,
   "metadata": {},
   "outputs": [
    {
     "name": "stdout",
     "output_type": "stream",
     "text": [
      "Cvec Mn score:0.88\n",
      "Tvec Mn score:0.87\n"
     ]
    }
   ],
   "source": [
    "print(f'Cvec Mn score:{round(gs2.score(X_train, y_train),2)}')\n",
    "print(f'Tvec Mn score:{round(gs2_1.score(X_train, y_train),2)}')"
   ]
  },
  {
   "cell_type": "markdown",
   "metadata": {},
   "source": [
    "| Score Comparision |       |\n",
    "|-------------------|-------|\n",
    "| Cvec LR score:    | 0\\.89 |\n",
    "| Tvec LR score:    | 0\\.83 |\n",
    "| Cvec Mn score:    | 0\\.88 |\n",
    "| Tvec Mn score:    | 0\\.87 |\n",
    "\n",
    "Logistic Regression model with count vectorizer is chosen as it has slightly higher score than the rest."
   ]
  },
  {
   "cell_type": "markdown",
   "metadata": {},
   "source": [
    "## 4. Model Fitting & Prediction"
   ]
  },
  {
   "cell_type": "code",
   "execution_count": 157,
   "metadata": {},
   "outputs": [],
   "source": [
    "#Delcaring Count Vectorizer with the best parameters found through grid search\n",
    "cvec = CountVectorizer(max_features = 400, max_df = 0.5, min_df = 2, ngram_range=(1,2),stop_words=sw1,\n",
    "                       tokenizer=textblob_tokenizer)"
   ]
  },
  {
   "cell_type": "code",
   "execution_count": 158,
   "metadata": {},
   "outputs": [],
   "source": [
    "#Fit & Transform Data\n",
    "cvec.fit(X_train)\n",
    "X_train_CV = cvec.transform(X_train)\n",
    "X_test_CV = cvec.transform(X_test)"
   ]
  },
  {
   "cell_type": "code",
   "execution_count": 159,
   "metadata": {},
   "outputs": [
    {
     "name": "stdout",
     "output_type": "stream",
     "text": [
      "0.8890258939580764\n"
     ]
    },
    {
     "data": {
      "text/plain": [
       "0.8118081180811808"
      ]
     },
     "execution_count": 159,
     "metadata": {},
     "output_type": "execute_result"
    }
   ],
   "source": [
    "#Model fitting with Logistic Regression\n",
    "lr = LogisticRegression(penalty='l1',solver='liblinear')\n",
    "lr.fit(X_train_CV,y_train)\n",
    "#Making Prediction\n",
    "y_pred = lr.predict(X_test_CV)\n",
    "print(lr.score(X_train_CV,y_train))\n",
    "lr.score(X_test_CV,y_test)"
   ]
  },
  {
   "cell_type": "markdown",
   "metadata": {},
   "source": [
    "## 5. Model Evaluation"
   ]
  },
  {
   "cell_type": "markdown",
   "metadata": {},
   "source": [
    "### 5.1. Key Tokens "
   ]
  },
  {
   "cell_type": "code",
   "execution_count": 160,
   "metadata": {},
   "outputs": [],
   "source": [
    "columns = cvec.get_feature_names()"
   ]
  },
  {
   "cell_type": "code",
   "execution_count": 181,
   "metadata": {
    "scrolled": false
   },
   "outputs": [
    {
     "data": {
      "image/png": "[encoded data removed]",
      "text/plain": [
       "<Figure size 864x720 with 1 Axes>"
      ]
     },
     "metadata": {
      "needs_background": "light"
     },
     "output_type": "display_data"
    },
    {
     "data": {
      "image/png": "[encoded data removed]",
      "text/plain": [
       "<Figure size 864x720 with 1 Axes>"
      ]
     },
     "metadata": {
      "needs_background": "light"
     },
     "output_type": "display_data"
    }
   ],
   "source": [
    "#Plotting horizontal bar graph to show the top 30 coefficients (or 15 keywords from each forum)\n",
    "lr_coef = pd.DataFrame(lr.coef_,columns=columns)\n",
    "df_coef = lr_coef.T.sort_values(by=0,ascending=False)\n",
    "#df_keyword = pd.concat([df_coef.head(15),df_coef.tail(15)],axis=0)\n",
    "#df_keyword.plot(kind='barh',figsize=(20,15),color='#54B948',title='Top 30 coefficients from Logistic Regression',legend=False,fontsize=15);\n",
    "df_coef.head(15).plot(kind='barh',figsize=(12,10),color='#FF4500',title='Top 15 Key Tokens For World News',legend=False,fontsize=15)\n",
    "plt.savefig('../img/worldnews_coef.png');\n",
    "df_coef.tail(15).plot(kind='barh',figsize=(12,10),color='#0079D3',title='Top 15 Key Tokens For Uplifting News',legend=False,fontsize=15);\n",
    "plt.savefig('../img/uplifting_coef.png');\n",
    "plt.show()"
   ]
  },
  {
   "cell_type": "markdown",
   "metadata": {},
   "source": [
    "From the logistic regression model, we can see the top 15 key tokens from each subreddit; the positive ones from subreddit World News and the negative ones are from subreddit Uplifting News. The key tokens make sense for World News as those are words that made the headline in the past month leading to 31 Jan 2020 (Which also happens to be rather negative terms sadly). \n",
    "\n",
    "On the other hand, we can see some positivity from the Australian bushfire situation since related tokens appear in the uplifting news which telly with recent news. Hence, we can say that the logistic model is performing as expected. (Especially when dog is men's best friend!) At the same time, classifying news related subreddit is also very time specific as key tokens from news vary from time to time. For example, using key token such as coronavirus in a post posted same time last year would be meaningless."
   ]
  },
  {
   "cell_type": "code",
   "execution_count": 171,
   "metadata": {},
   "outputs": [
    {
     "data": {
      "text/html": [
       "<div>\n",
       "<style scoped>\n",
       "    .dataframe tbody tr th:only-of-type {\n",
       "        vertical-align: middle;\n",
       "    }\n",
       "\n",
       "    .dataframe tbody tr th {\n",
       "        vertical-align: top;\n",
       "    }\n",
       "\n",
       "    .dataframe thead th {\n",
       "        text-align: right;\n",
       "    }\n",
       "</style>\n",
       "<table border=\"1\" class=\"dataframe\">\n",
       "  <thead>\n",
       "    <tr style=\"text-align: right;\">\n",
       "      <th></th>\n",
       "      <th>0</th>\n",
       "    </tr>\n",
       "  </thead>\n",
       "  <tbody>\n",
       "    <tr>\n",
       "      <th>coronavirus</th>\n",
       "      <td>3.585835</td>\n",
       "    </tr>\n",
       "  </tbody>\n",
       "</table>\n",
       "</div>"
      ],
      "text/plain": [
       "                    0\n",
       "coronavirus  3.585835"
      ]
     },
     "execution_count": 171,
     "metadata": {},
     "output_type": "execute_result"
    }
   ],
   "source": [
    "df_coef.head(1)"
   ]
  },
  {
   "cell_type": "code",
   "execution_count": 164,
   "metadata": {},
   "outputs": [
    {
     "data": {
      "text/html": [
       "<div>\n",
       "<style scoped>\n",
       "    .dataframe tbody tr th:only-of-type {\n",
       "        vertical-align: middle;\n",
       "    }\n",
       "\n",
       "    .dataframe tbody tr th {\n",
       "        vertical-align: top;\n",
       "    }\n",
       "\n",
       "    .dataframe thead th {\n",
       "        text-align: right;\n",
       "    }\n",
       "</style>\n",
       "<table border=\"1\" class=\"dataframe\">\n",
       "  <thead>\n",
       "    <tr style=\"text-align: right;\">\n",
       "      <th></th>\n",
       "      <th>0</th>\n",
       "    </tr>\n",
       "  </thead>\n",
       "  <tbody>\n",
       "    <tr>\n",
       "      <th>dog</th>\n",
       "      <td>-2.67964</td>\n",
       "    </tr>\n",
       "  </tbody>\n",
       "</table>\n",
       "</div>"
      ],
      "text/plain": [
       "           0\n",
       "dog -2.67964"
      ]
     },
     "execution_count": 164,
     "metadata": {},
     "output_type": "execute_result"
    }
   ],
   "source": [
    "df_coef.tail(1)"
   ]
  },
  {
   "cell_type": "code",
   "execution_count": 176,
   "metadata": {},
   "outputs": [
    {
     "name": "stdout",
     "output_type": "stream",
     "text": [
      "coronavirus    36.083478\n",
      "Name: 0, dtype: float64\n",
      "\n",
      "\n",
      "dog    14.579849\n",
      "Name: 0, dtype: float64\n"
     ]
    }
   ],
   "source": [
    "print(np.exp(df_coef.head(1)[0]))\n",
    "print('\\n')\n",
    "print(np.exp(-df_coef.tail(1)[0]))"
   ]
  },
  {
   "cell_type": "markdown",
   "metadata": {},
   "source": [
    "**Intepretation of coefficients**\n",
    "\n",
    "If a post has the word 'coronavirus', it is 36 times more likely that the post would be classified as y=1 (World News).\n",
    "\n",
    "If a post has the word 'dog', it is 14.5 times more likely that the post world be classified as y=0 (Uplifting News)."
   ]
  },
  {
   "cell_type": "markdown",
   "metadata": {},
   "source": [
    "### 5.2. Confusion Matrix"
   ]
  },
  {
   "cell_type": "code",
   "execution_count": 47,
   "metadata": {},
   "outputs": [
    {
     "name": "stdout",
     "output_type": "stream",
     "text": [
      "True Negatives: 92\n",
      "False Positives: 11\n",
      "False Negatives: 41\n",
      "True Positives: 127\n"
     ]
    }
   ],
   "source": [
    "cm = confusion_matrix(y_test, y_pred)\n",
    "tn, fp, fn, tp = confusion_matrix(y_test, y_pred).ravel()\n",
    "print(\"True Negatives: %s\" % tn)\n",
    "print(\"False Positives: %s\" % fp)\n",
    "print(\"False Negatives: %s\" % fn)\n",
    "print(\"True Positives: %s\" % tp)"
   ]
  },
  {
   "cell_type": "code",
   "execution_count": 48,
   "metadata": {},
   "outputs": [
    {
     "name": "stdout",
     "output_type": "stream",
     "text": [
      "Sensitivity: 0.756\n"
     ]
    }
   ],
   "source": [
    "# Calculate sensitivity.\n",
    "\n",
    "sens = tp / (tp + fn)\n",
    "\n",
    "print(f'Sensitivity: {round(sens, 4)}')"
   ]
  },
  {
   "cell_type": "code",
   "execution_count": 49,
   "metadata": {},
   "outputs": [
    {
     "name": "stdout",
     "output_type": "stream",
     "text": [
      "Specificity: 0.8932\n"
     ]
    }
   ],
   "source": [
    "# Calculate specificity.\n",
    "\n",
    "spec = tn / (tn + fp)\n",
    "\n",
    "print(f'Specificity: {round(spec, 4)}')"
   ]
  },
  {
   "cell_type": "code",
   "execution_count": 50,
   "metadata": {},
   "outputs": [
    {
     "name": "stdout",
     "output_type": "stream",
     "text": [
      "Accuracy: 0.8081\n"
     ]
    }
   ],
   "source": [
    "# Calculate Accuracy.\n",
    "\n",
    "spec = (tn + tp)/ (tn + fp+ tp+ fn)\n",
    "\n",
    "print(f'Accuracy: {round(spec, 4)}')"
   ]
  },
  {
   "cell_type": "code",
   "execution_count": 51,
   "metadata": {},
   "outputs": [],
   "source": [
    "# Let's create a dataframe called pred_df that contains:\n",
    "# 1. The list of true values of our test set.\n",
    "# 2. The list of predicted probabilities based on our model.\n",
    "pred_proba = [i[1] for i in lr.predict_proba(X_test_CV)]\n",
    "\n",
    "pred_df = pd.DataFrame({'true_values': y_test,\n",
    "                        'pred_probs':pred_proba})"
   ]
  },
  {
   "cell_type": "code",
   "execution_count": 52,
   "metadata": {},
   "outputs": [
    {
     "data": {
      "image/png": "[encoded data removed]",
      "text/plain": [
       "<Figure size 720x504 with 1 Axes>"
      ]
     },
     "metadata": {
      "needs_background": "light"
     },
     "output_type": "display_data"
    }
   ],
   "source": [
    "# Create figure.\n",
    "plt.figure(figsize = (10,7))\n",
    "\n",
    "# Create two histograms of observations.\n",
    "plt.hist(pred_df[pred_df['true_values'] == 0]['pred_probs'],\n",
    "         bins=25,\n",
    "         color='b',\n",
    "         alpha = 0.6,\n",
    "         label='Outcome = 0')\n",
    "plt.hist(pred_df[pred_df['true_values'] == 1]['pred_probs'],\n",
    "         bins=25,\n",
    "         color='orange',\n",
    "         alpha = 0.6,\n",
    "         label='Outcome = 1')\n",
    "\n",
    "# Add vertical line at P(Outcome = 1) = 0.5.\n",
    "plt.vlines(x=0.5,\n",
    "           ymin = 0,\n",
    "           ymax = 65,\n",
    "           color='r',\n",
    "           linestyle = '--')\n",
    "\n",
    "# Label axes.\n",
    "plt.title('Distribution of P(Outcome = 1)', fontsize=22)\n",
    "plt.ylabel('Frequency', fontsize=18)\n",
    "plt.xlabel('Predicted Probability that Outcome = 1', fontsize=18)\n",
    "\n",
    "# Create legend.\n",
    "plt.legend(fontsize=20);"
   ]
  },
  {
   "cell_type": "markdown",
   "metadata": {},
   "source": [
    "| Confusion Matrix |     |\n",
    "|------------------|-----|\n",
    "| True Negatives   | 92  |\n",
    "| False Positives  | 11  |\n",
    "| False Negatives  | 40  |\n",
    "| True Positives   | 128 |\n",
    "\n"
   ]
  },
  {
   "cell_type": "markdown",
   "metadata": {},
   "source": [
    "The model is doing quite well in all except classifying the negatives as seen from the overlapped part on the left side of the red dotted line. 40 of the oberservation were wrongly classified as Uplifting News when the post belongs to World News. "
   ]
  },
  {
   "cell_type": "code",
   "execution_count": 53,
   "metadata": {},
   "outputs": [
    {
     "data": {
      "text/html": [
       "<div>\n",
       "<style scoped>\n",
       "    .dataframe tbody tr th:only-of-type {\n",
       "        vertical-align: middle;\n",
       "    }\n",
       "\n",
       "    .dataframe tbody tr th {\n",
       "        vertical-align: top;\n",
       "    }\n",
       "\n",
       "    .dataframe thead th {\n",
       "        text-align: right;\n",
       "    }\n",
       "</style>\n",
       "<table border=\"1\" class=\"dataframe\">\n",
       "  <thead>\n",
       "    <tr style=\"text-align: right;\">\n",
       "      <th></th>\n",
       "      <th>y_test</th>\n",
       "      <th>y_pred</th>\n",
       "      <th>X_test</th>\n",
       "    </tr>\n",
       "  </thead>\n",
       "  <tbody>\n",
       "    <tr>\n",
       "      <th>267</th>\n",
       "      <td>1</td>\n",
       "      <td>1</td>\n",
       "      <td>[jhu, csse, developed, an, online, dashboard, to, visualize, and, track, the, reported, case, of, wuhan, coronavirus, 2019-ncov, on, a, daily, timescale]</td>\n",
       "    </tr>\n",
       "    <tr>\n",
       "      <th>26</th>\n",
       "      <td>0</td>\n",
       "      <td>0</td>\n",
       "      <td>[alberta, man, us, lukewarm, coffee, to, rescue, frozen, abandoned, kitten]</td>\n",
       "    </tr>\n",
       "    <tr>\n",
       "      <th>408</th>\n",
       "      <td>1</td>\n",
       "      <td>1</td>\n",
       "      <td>[taiwan, offer, virus, help, to, china, but, tightens, visitor, rule]</td>\n",
       "    </tr>\n",
       "    <tr>\n",
       "      <th>382</th>\n",
       "      <td>1</td>\n",
       "      <td>1</td>\n",
       "      <td>[rudy, pal, lev, parnas, release, hour-long, audio, of, trump, calling, for, ukraine, ambassador, ’, s, firing]</td>\n",
       "    </tr>\n",
       "    <tr>\n",
       "      <th>36</th>\n",
       "      <td>0</td>\n",
       "      <td>0</td>\n",
       "      <td>[vintage, ford, bronco, sell, for, 650,000, at, auction, for, alzheimer, ’, s, association]</td>\n",
       "    </tr>\n",
       "  </tbody>\n",
       "</table>\n",
       "</div>"
      ],
      "text/plain": [
       "     y_test  y_pred  \\\n",
       "267       1       1   \n",
       "26        0       0   \n",
       "408       1       1   \n",
       "382       1       1   \n",
       "36        0       0   \n",
       "\n",
       "                                                                                                                                                        X_test  \n",
       "267  [jhu, csse, developed, an, online, dashboard, to, visualize, and, track, the, reported, case, of, wuhan, coronavirus, 2019-ncov, on, a, daily, timescale]  \n",
       "26                                                                                 [alberta, man, us, lukewarm, coffee, to, rescue, frozen, abandoned, kitten]  \n",
       "408                                                                                      [taiwan, offer, virus, help, to, china, but, tightens, visitor, rule]  \n",
       "382                                            [rudy, pal, lev, parnas, release, hour-long, audio, of, trump, calling, for, ukraine, ambassador, ’, s, firing]  \n",
       "36                                                                 [vintage, ford, bronco, sell, for, 650,000, at, auction, for, alzheimer, ’, s, association]  "
      ]
     },
     "execution_count": 53,
     "metadata": {},
     "output_type": "execute_result"
    }
   ],
   "source": [
    "#Making a dataframe to display y_pred, y_test and tokenize X_test\n",
    "df_y = pd.DataFrame(y_test)\n",
    "df_y['y_pred'] = y_pred\n",
    "df_y['X_test'] = X_test\n",
    "df_y.rename(columns = {'subreddit':'y_test','y_pred':'y_pred','X_test':'X_test'},inplace=True)\n",
    "df_y['X_test'] = df_y['X_test'].apply(textblob_tokenizer)\n",
    "df_y.head()"
   ]
  },
  {
   "cell_type": "code",
   "execution_count": 54,
   "metadata": {},
   "outputs": [
    {
     "data": {
      "text/plain": [
       "{'1',\n",
       " 'animal',\n",
       " 'australian',\n",
       " 'bushfire',\n",
       " 'child',\n",
       " 'emission',\n",
       " 'expert',\n",
       " 'family',\n",
       " 'food',\n",
       " 'global',\n",
       " 'health',\n",
       " 'high',\n",
       " 'lead',\n",
       " 'lost',\n",
       " 'man',\n",
       " 'money',\n",
       " 'new',\n",
       " 'pay',\n",
       " 'public',\n",
       " 'raise',\n",
       " 'scientist',\n",
       " 'wild',\n",
       " 'woman'}"
      ]
     },
     "execution_count": 54,
     "metadata": {},
     "output_type": "execute_result"
    }
   ],
   "source": [
    "#Selecting just the false negative classification into another dataframe\n",
    "df_fn = df_y[(df_y['y_test']==1) & (df_y['y_pred']==0)]\n",
    "\n",
    "#Create a list for all the coefficients that help to classify post into Uplifting News (y=0)\n",
    "wrong_token=[]\n",
    "df_upcoef = df_coef[df_coef[0]<0]\n",
    "uplifting_token = list(df_upcoef.index.values)\n",
    "\n",
    "#locate the token that causes false negative classification\n",
    "for i in df_fn['X_test']:\n",
    "    for j in i:\n",
    "        if j in uplifting_token:\n",
    "            wrong_token.append(j)\n",
    "wrong_token = set(wrong_token)\n",
    "wrong_token"
   ]
  },
  {
   "cell_type": "markdown",
   "metadata": {},
   "source": [
    "By taking a closer look at the tokens within the X_test of the False Negatives, we can generate a list (see above) of tokens which contribute to the misclassficiation of False Negative by comparing with the key tokens with negative coefficient (Which are the key tokens for y=0, i.e Uplifting News). \n",
    "\n",
    "Due to the nature of the subreddits, overlapping of tokens are bound to happen and the tokens can also changes accordingly to the world event around the world. We can optimise the specificity and sensitivity by add this list into the stop words list or create a better model by having more posts from subreddit over a longer period of time. However, since the objective of this project is to classify the post correctly into the right subreddit and the model is able to achieve higher than baseline accuracy, we can safely assume that the model is performing as expected.\n",
    "\n",
    "| Accuracy Comparison |       |\n",
    "|---------------------|-------|\n",
    "| Baseline Accuracy   | 0\\.62 |\n",
    "| Model Accuracy      | 0\\.81 |\n"
   ]
  },
  {
   "cell_type": "markdown",
   "metadata": {},
   "source": [
    "## 6. Conclusion & Recommendations"
   ]
  },
  {
   "cell_type": "markdown",
   "metadata": {},
   "source": [
    "Logistic Regression (LR) model was compared with Multinomial(MN) model for the model validation process, and LR was chosen as the better model for classification of the subreddit posts based on the score obtained through Gridsearch Cross Validation. \n",
    "\n",
    "| Score Comparision |       |\n",
    "|-------------------|-------|\n",
    "| **Cvec LR score:**    | **0\\.89** |\n",
    "| Tvec LR score:    | 0\\.83 |\n",
    "| Cvec Mn score:    | 0\\.88 |\n",
    "| Tvec Mn score:    | 0\\.87 |\n",
    "\n",
    "The LR classification model perform as expected, with an accuracy higher than that of baseline accuracy.\n",
    "\n",
    "| Accuracy Comparison |       |\n",
    "|---------------------|-------|\n",
    "| Baseline Accuracy   | 0\\.62 |\n",
    "| **Model Accuracy**      | **0\\.81** |\n",
    "\n",
    "From the LR model, we are able to show the key tokens from each subreddit that contribute to classifying the posts from the coefficient. \n",
    "\n",
    "![worldnews_coef](..\\img\\worldnews_coef.png)\n",
    "![uplifting_coef](..\\img\\uplifting_coef.png)\n",
    "\n",
    "The key tokens make sense for World News as those are words that made the headline in the past month leading to 31 Jan 2020 (Which also happens to be rather negative terms, sadly). \n",
    "\n",
    "On the other hand, we can see some positivity from the Australian bushfire situation since related tokens appear in the uplifting news which telly with recent news. Hence, we can say that the logistic model is performing as expected. (Especially when dog is men's best friend!) \n",
    "\n",
    "At the same time, classifiying news related subreddit is also very time specific as key tokens from news vary from time to time. For example, using key token such as coronavirus in a post posted same time last year would be rather meaningless.\n",
    "\n",
    "An evaluation of the LR model was also done, specifically on the False Negative classification. \n",
    "\n",
    "| Confusion Matrix |     |\n",
    "|------------------|-----|\n",
    "| True Negatives   | 92  |\n",
    "| False Positives  | 11  |\n",
    "| False Negatives  | 40  |\n",
    "| True Positives   | 128 |\n",
    "\n",
    "It is found that some of the key tokens for Uplifting News are contributing to the misclassfication of false negative as these tokens also appear on 40 posts from World News. However, since the objective of this project is to classify the post correctly into the right subreddit and the LR model is able to achieve higher than baseline accuracy, we can safely assume that the model is performing as expected.\n",
    "\n",
    "**Recommendation**\n",
    "\n",
    "Due to the limitation on the number of posts we can request using subreddit API, the model can only be trained on the most recent 500-700 posts. The model would be more accurate and less time-depedent if more historic data of the posts can be used to train the LR model. \n",
    "\n"
   ]
  },
  {
   "cell_type": "code",
   "execution_count": null,
   "metadata": {},
   "outputs": [],
   "source": []
  }
 ],
 "metadata": {
  "kernelspec": {
   "display_name": "Python 3",
   "language": "python",
   "name": "python3"
  },
  "language_info": {
   "codemirror_mode": {
    "name": "ipython",
    "version": 3
   },
   "file_extension": ".py",
   "mimetype": "text/x-python",
   "name": "python",
   "nbconvert_exporter": "python",
   "pygments_lexer": "ipython3",
   "version": "3.7.3"
  }
 },
 "nbformat": 4,
 "nbformat_minor": 2
}
